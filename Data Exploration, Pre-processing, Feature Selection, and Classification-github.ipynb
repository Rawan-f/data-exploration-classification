{
 "cells": [
  {
   "cell_type": "markdown",
   "id": "839d8879-d1a8-49c2-b1f6-a1bef4bd3d39",
   "metadata": {},
   "source": [
    "# Data Exploration, Pre-processing, Feature Selection, and Classification"
   ]
  },
  {
   "cell_type": "markdown",
   "id": "25aabc8b-15ec-4a38-a2ad-47f0d5f8d75c",
   "metadata": {},
   "source": [
    "## Part 1: Data Exploration and Pre-processing"
   ]
  },
  {
   "cell_type": "markdown",
   "id": "c858e3a9-42cf-4a66-9c01-bc62d00548b2",
   "metadata": {},
   "source": [
    "### 1.1 Load the Dataset and Display its Characteristics"
   ]
  },
  {
   "cell_type": "code",
   "execution_count": 403,
   "id": "baf38638-bf29-4b79-a951-b29b11ac9c03",
   "metadata": {},
   "outputs": [],
   "source": [
    "import pandas as pd"
   ]
  },
  {
   "cell_type": "code",
   "execution_count": 404,
   "id": "b7d316a2-23a4-42e8-9ab8-8a71968b9c97",
   "metadata": {},
   "outputs": [],
   "source": [
    "# read the dataset\n",
    "iris_data=pd.read_csv('iris_data - original.csv')"
   ]
  },
  {
   "cell_type": "code",
   "execution_count": 405,
   "id": "4c06e06a-70f6-4fca-b36f-46f00163a27f",
   "metadata": {},
   "outputs": [
    {
     "data": {
      "text/plain": [
       "(150, 5)"
      ]
     },
     "execution_count": 405,
     "metadata": {},
     "output_type": "execute_result"
    }
   ],
   "source": [
    "# Display dataset characteristics\n",
    "# Number of rows and columns\n",
    "iris_data.shape"
   ]
  },
  {
   "cell_type": "code",
   "execution_count": 406,
   "id": "579392da-af67-46f8-b462-ca404b3b16de",
   "metadata": {},
   "outputs": [
    {
     "data": {
      "text/plain": [
       "sepal_length    float64\n",
       "sepal_width     float64\n",
       "petal_length    float64\n",
       "petal_width     float64\n",
       "species          object\n",
       "dtype: object"
      ]
     },
     "execution_count": 406,
     "metadata": {},
     "output_type": "execute_result"
    }
   ],
   "source": [
    "# Data types\n",
    "iris_data.dtypes"
   ]
  },
  {
   "cell_type": "code",
   "execution_count": 407,
   "id": "02a2afb0-4e5a-4b3c-8934-affd6959661e",
   "metadata": {},
   "outputs": [
    {
     "data": {
      "text/html": [
       "<div>\n",
       "<style scoped>\n",
       "    .dataframe tbody tr th:only-of-type {\n",
       "        vertical-align: middle;\n",
       "    }\n",
       "\n",
       "    .dataframe tbody tr th {\n",
       "        vertical-align: top;\n",
       "    }\n",
       "\n",
       "    .dataframe thead th {\n",
       "        text-align: right;\n",
       "    }\n",
       "</style>\n",
       "<table border=\"1\" class=\"dataframe\">\n",
       "  <thead>\n",
       "    <tr style=\"text-align: right;\">\n",
       "      <th></th>\n",
       "      <th>sepal_length</th>\n",
       "      <th>sepal_width</th>\n",
       "      <th>petal_length</th>\n",
       "      <th>petal_width</th>\n",
       "      <th>species</th>\n",
       "    </tr>\n",
       "  </thead>\n",
       "  <tbody>\n",
       "    <tr>\n",
       "      <th>0</th>\n",
       "      <td>5.1</td>\n",
       "      <td>3.5</td>\n",
       "      <td>1.4</td>\n",
       "      <td>0.2</td>\n",
       "      <td>setosa</td>\n",
       "    </tr>\n",
       "    <tr>\n",
       "      <th>1</th>\n",
       "      <td>4.9</td>\n",
       "      <td>3.0</td>\n",
       "      <td>1.4</td>\n",
       "      <td>0.2</td>\n",
       "      <td>setosa</td>\n",
       "    </tr>\n",
       "    <tr>\n",
       "      <th>2</th>\n",
       "      <td>4.7</td>\n",
       "      <td>3.2</td>\n",
       "      <td>1.3</td>\n",
       "      <td>0.2</td>\n",
       "      <td>setosa</td>\n",
       "    </tr>\n",
       "    <tr>\n",
       "      <th>3</th>\n",
       "      <td>4.6</td>\n",
       "      <td>3.1</td>\n",
       "      <td>1.5</td>\n",
       "      <td>0.2</td>\n",
       "      <td>setosa</td>\n",
       "    </tr>\n",
       "    <tr>\n",
       "      <th>4</th>\n",
       "      <td>5.0</td>\n",
       "      <td>3.6</td>\n",
       "      <td>1.4</td>\n",
       "      <td>0.2</td>\n",
       "      <td>setosa</td>\n",
       "    </tr>\n",
       "  </tbody>\n",
       "</table>\n",
       "</div>"
      ],
      "text/plain": [
       "   sepal_length  sepal_width  petal_length  petal_width species\n",
       "0           5.1          3.5           1.4          0.2  setosa\n",
       "1           4.9          3.0           1.4          0.2  setosa\n",
       "2           4.7          3.2           1.3          0.2  setosa\n",
       "3           4.6          3.1           1.5          0.2  setosa\n",
       "4           5.0          3.6           1.4          0.2  setosa"
      ]
     },
     "execution_count": 407,
     "metadata": {},
     "output_type": "execute_result"
    }
   ],
   "source": [
    "# First 5 rows\n",
    "iris_data.head()"
   ]
  },
  {
   "cell_type": "markdown",
   "id": "ff3c5313-e597-48b7-90c8-d5b3ec40ebf2",
   "metadata": {},
   "source": [
    "### 1.2 Check for Missing Values"
   ]
  },
  {
   "cell_type": "code",
   "execution_count": 409,
   "id": "b6685563-f1e4-43b1-a04c-3d296fb853ed",
   "metadata": {},
   "outputs": [
    {
     "name": "stdout",
     "output_type": "stream",
     "text": [
      "Missing values in the dataset:\n",
      " sepal_length    0\n",
      "sepal_width     0\n",
      "petal_length    0\n",
      "petal_width     0\n",
      "species         0\n",
      "dtype: int64\n"
     ]
    }
   ],
   "source": [
    "print(\"Missing values in the dataset:\\n\", iris_data.isnull().sum())"
   ]
  },
  {
   "cell_type": "markdown",
   "id": "22ca06a5-79c6-404f-9dfc-6bfd1cf97c50",
   "metadata": {},
   "source": [
    "### 1.3 Check for Duplicate Records"
   ]
  },
  {
   "cell_type": "code",
   "execution_count": 411,
   "id": "8b6590fc-2a70-46f1-937f-bcfdbd99530e",
   "metadata": {},
   "outputs": [
    {
     "name": "stdout",
     "output_type": "stream",
     "text": [
      "Number of duplicate rows: 1\n"
     ]
    }
   ],
   "source": [
    "duplicate_rows = iris_data.duplicated()\n",
    "print(\"Number of duplicate rows:\", duplicate_rows.sum())"
   ]
  },
  {
   "cell_type": "code",
   "execution_count": 412,
   "id": "d12b5bbe-e86c-4cfb-abd6-60a0fefb6b61",
   "metadata": {},
   "outputs": [
    {
     "name": "stdout",
     "output_type": "stream",
     "text": [
      "Shape of the dataset after removing duplicates: (149, 5)\n"
     ]
    }
   ],
   "source": [
    "#Remove duplicates\n",
    "iris_data = iris_data.drop_duplicates()\n",
    "print(\"Shape of the dataset after removing duplicates:\", iris_data.shape)"
   ]
  },
  {
   "cell_type": "markdown",
   "id": "7c1e4485-455d-4c82-b026-6922d5ec2810",
   "metadata": {},
   "source": [
    "### 1.4 Summarize the Dataset’s Statistical Properties"
   ]
  },
  {
   "cell_type": "code",
   "execution_count": 414,
   "id": "41c1f8c3-8fed-44fe-970e-4b42b26cf6a5",
   "metadata": {},
   "outputs": [
    {
     "name": "stdout",
     "output_type": "stream",
     "text": [
      "       sepal_length  sepal_width  petal_length  petal_width\n",
      "count    149.000000   149.000000    149.000000   149.000000\n",
      "mean       5.843624     3.059732      3.748993     1.194631\n",
      "std        0.830851     0.436342      1.767791     0.762622\n",
      "min        4.300000     2.000000      1.000000     0.100000\n",
      "25%        5.100000     2.800000      1.600000     0.300000\n",
      "50%        5.800000     3.000000      4.300000     1.300000\n",
      "75%        6.400000     3.300000      5.100000     1.800000\n",
      "max        7.900000     4.400000      6.900000     2.500000\n"
     ]
    }
   ],
   "source": [
    "print(iris_data.describe())"
   ]
  },
  {
   "cell_type": "markdown",
   "id": "44cc4207-29e3-4689-a6a6-9ba7fe98924a",
   "metadata": {},
   "source": [
    "### 1.5 Visualize the Data"
   ]
  },
  {
   "cell_type": "code",
   "execution_count": 416,
   "id": "eaf5e81a-074b-4bdb-9cb6-37839895f9af",
   "metadata": {},
   "outputs": [
    {
     "data": {
      "image/png": "[encoded data removed]",
      "text/plain": [
       "<Figure size 1200x800 with 4 Axes>"
      ]
     },
     "metadata": {},
     "output_type": "display_data"
    }
   ],
   "source": [
    "import matplotlib.pyplot as plt\n",
    "\n",
    "axes= iris_data.hist(bins=15, figsize=(12, 8), grid=False)\n",
    "\n",
    "for ax in axes.flatten():\n",
    "    ax.set_xlabel(ax.get_title())  # Set x-axis label to feature name\n",
    "    ax.set_ylabel('Frequency')\n",
    "    \n",
    "plt.tight_layout()\n",
    "plt.show()"
   ]
  },
  {
   "cell_type": "markdown",
   "id": "b444ff98-0eaf-4c53-b224-f8936e65f06e",
   "metadata": {},
   "source": [
    "### 1.6 Insight Paragraph"
   ]
  },
  {
   "cell_type": "raw",
   "id": "21b81273-77a5-42f7-ae19-c5d20307b8c1",
   "metadata": {},
   "source": [
    "The Iris dataset is available on the UCI Machine Learning Repository and was utilized in the seminal 1936 publication The Use of Multiple Measurements in Taxonomic Problems by R.A. Fisher.\n",
    "\n",
    "It contains information about each flower's characteristics along with 50 samples from each of the three iris species. It is possible to separate one flower species linearly from the other two, but not the other two.\n",
    "\n",
    "The columns in this dataset are:\n",
    "\n",
    "Id\n",
    "SepalLengthCm\n",
    "SepalWidthCm\n",
    "PetalLengthCm\n",
    "PetalWidthCm\n",
    "Species (target)\n",
    "\n",
    "noticed the following:\n",
    "\n",
    "- counte: all features contain 149 samples, and this is a good indicator to train the classification model on a full database without missing values, but often the models need a large amount of data.\n",
    "\n",
    "- mean: sepal_length has the largest mean value, which means that it may affect the model unevenly, as it dominates the classification process and makes the Model focus on it more than other features, and on the contrary, petal_width is the smallest value on average.\n",
    "\n",
    "- std: petal_length has the highest value and this indicates that the length of the petals varies significantly between samples and this is an important indicator to distinguish between different species.\n",
    "\n",
    "- max and min: the biggest difference between the maximum and minimum was in petal_length and sepal_length, which indicates that these features have a great diversity, and this supports their role in classifying.ollection."
   ]
  },
  {
   "cell_type": "markdown",
   "id": "2a3570c3-e703-45b0-ad01-2e5ef6d50ade",
   "metadata": {},
   "source": [
    "## Part 2:  Feature Selection"
   ]
  },
  {
   "cell_type": "markdown",
   "id": "cc03f6bc-5fd3-4dcf-b289-ca90e7eb6bf7",
   "metadata": {},
   "source": [
    "### 2.1 Variance Threshold Method"
   ]
  },
  {
   "cell_type": "code",
   "execution_count": 420,
   "id": "5edfb51d-b176-49fa-a8af-d9804ec2bf7d",
   "metadata": {},
   "outputs": [
    {
     "name": "stdout",
     "output_type": "stream",
     "text": [
      "Features selected by Variance Threshold: Index(['sepal_length', 'petal_length', 'petal_width'], dtype='object')\n"
     ]
    }
   ],
   "source": [
    "from sklearn.feature_selection import VarianceThreshold\n",
    "\n",
    "X = iris_data.drop(columns='species')  \n",
    "y = iris_data['species'] \n",
    "\n",
    "selector = VarianceThreshold(threshold=0.2)\n",
    "X_variance_threshold = selector.fit_transform(X)\n",
    "\n",
    "print(\"Features selected by Variance Threshold:\", X.columns[selector.get_support()])"
   ]
  },
  {
   "cell_type": "markdown",
   "id": "28af2f3c-630f-4440-9274-460c22d0a223",
   "metadata": {},
   "source": [
    "### 2.2 Recursive Feature Elimination (RFE)"
   ]
  },
  {
   "cell_type": "code",
   "execution_count": 422,
   "id": "ccb00835-c380-4db0-a491-25d18a760dcc",
   "metadata": {},
   "outputs": [
    {
     "name": "stdout",
     "output_type": "stream",
     "text": [
      "Features selected by RFE: Index(['petal_length', 'petal_width'], dtype='object')\n"
     ]
    }
   ],
   "source": [
    "from sklearn.feature_selection import RFE\n",
    "from sklearn.ensemble import RandomForestClassifier\n",
    "\n",
    "model = RandomForestClassifier(random_state=42)\n",
    "\n",
    "rfe_selector = RFE(model, n_features_to_select=2)\n",
    "rfe_selector.fit(X, y)\n",
    "\n",
    "print(\"Features selected by RFE:\", X.columns[rfe_selector.support_])"
   ]
  },
  {
   "cell_type": "markdown",
   "id": "aa584452-dd65-488e-9e9d-ce9f720bc7d5",
   "metadata": {},
   "source": [
    "### 2.3 Apply Selected Features to a Classifier"
   ]
  },
  {
   "cell_type": "markdown",
   "id": "eed3f99b-b150-4305-8600-d23598505ecf",
   "metadata": {},
   "source": [
    "#### 2.3.1 Train a Classifier Using All Features"
   ]
  },
  {
   "cell_type": "code",
   "execution_count": 425,
   "id": "00f64b1a-70af-4e3f-ae86-5e74b4c725b0",
   "metadata": {},
   "outputs": [
    {
     "name": "stdout",
     "output_type": "stream",
     "text": [
      "Accuracy using all features: 1.0000\n",
      "Training time with all features: 0.0469 seconds\n"
     ]
    }
   ],
   "source": [
    "from sklearn.linear_model import LogisticRegression\n",
    "from sklearn.model_selection import train_test_split\n",
    "from sklearn.metrics import accuracy_score\n",
    "import time\n",
    "\n",
    "# Split the data\n",
    "X_train, X_test, y_train, y_test = train_test_split(X, y, test_size=0.3, random_state=42)\n",
    "\n",
    "# Train a Logistic Regression model\n",
    "lr = LogisticRegression(max_iter=1000)\n",
    "\n",
    "# Measure the training time\n",
    "start_time = time.time() \n",
    "lr.fit(X_train, y_train)\n",
    "end_time = time.time() \n",
    "\n",
    "# Calculate training time\n",
    "training_time_all_features = end_time - start_time\n",
    "\n",
    "# Predictions and accuracy\n",
    "y_all_features = lr.predict(X_test)\n",
    "accuracy_all_features = accuracy_score(y_test, y_all_features)\n",
    "\n",
    "# Print accuracy and training time\n",
    "print(f\"Accuracy using all features: {accuracy_all_features:.4f}\")\n",
    "print(f\"Training time with all features: {training_time_all_features:.4f} seconds\")\n"
   ]
  },
  {
   "cell_type": "markdown",
   "id": "7bd70998-2f8b-4776-8f05-0e3d96381353",
   "metadata": {},
   "source": [
    "#### 2.3.2 Train a Classifier Using Features Selected by Variance Threshold"
   ]
  },
  {
   "cell_type": "code",
   "execution_count": 427,
   "id": "7dcc857a-8f23-415c-a873-5a6de1a9a2cb",
   "metadata": {},
   "outputs": [
    {
     "name": "stdout",
     "output_type": "stream",
     "text": [
      "Accuracy using Variance Threshold selected features: 1.0000\n",
      "Training time with Variance Threshold selected features: 0.0275 seconds\n"
     ]
    }
   ],
   "source": [
    "# Split data using selected features by Variance Threshold\n",
    "X_train_vt, X_test_vt, y_train, y_test = train_test_split(X_variance_threshold, y, test_size=0.3, random_state=42)\n",
    "\n",
    "# Train Logistic Regression with selected features\n",
    "lr = LogisticRegression(max_iter=1000)\n",
    "\n",
    "# Measure the training time\n",
    "start_time = time.time()  \n",
    "lr.fit(X_train_vt, y_train)  \n",
    "end_time = time.time()  \n",
    "\n",
    "# Calculate training time\n",
    "training_time_vt = end_time - start_time\n",
    "\n",
    "# Predictions and accuracy\n",
    "y_selected = lr.predict(X_test_vt)\n",
    "accuracy_vt = accuracy_score(y_test, y_selected)\n",
    "\n",
    "# Print accuracy and training time\n",
    "print(f\"Accuracy using Variance Threshold selected features: {accuracy_vt:.4f}\")\n",
    "print(f\"Training time with Variance Threshold selected features: {training_time_vt:.4f} seconds\")\n"
   ]
  },
  {
   "cell_type": "markdown",
   "id": "4e703b78-96a8-4b3e-8418-f266ec2cbd63",
   "metadata": {},
   "source": [
    "#### 2.3.3 Train a Classifier Using Features Selected by RFE"
   ]
  },
  {
   "cell_type": "code",
   "execution_count": 429,
   "id": "58d942e7-a006-4925-89e1-cd1e93a3d223",
   "metadata": {},
   "outputs": [
    {
     "name": "stdout",
     "output_type": "stream",
     "text": [
      "Accuracy using RFE selected features: 1.0000\n",
      "Training time with RFE selected features: 0.0231 seconds\n"
     ]
    }
   ],
   "source": [
    "# Split data using selected features by RFE\n",
    "X_rfe = X.loc[:, rfe_selector.support_]\n",
    "X_train_rfe, X_test_rfe, y_train, y_test = train_test_split(X_rfe, y, test_size=0.3, random_state=42)\n",
    "\n",
    "# Train Logistic Regression with RFE selected features\n",
    "lr = LogisticRegression(max_iter=1000)\n",
    "\n",
    "# Measure the training time\n",
    "start_time = time.time() \n",
    "lr.fit(X_train_rfe, y_train)\n",
    "end_time = time.time() \n",
    "\n",
    "# Calculate training time\n",
    "training_time_rfe = end_time - start_time\n",
    "\n",
    "# Predictions and accuracy\n",
    "y_pred_rfe = lr.predict(X_test_rfe)\n",
    "accuracy_rfe = accuracy_score(y_test, y_pred_rfe)\n",
    "\n",
    "# Print accuracy and training time\n",
    "print(f\"Accuracy using RFE selected features: {accuracy_rfe:.4f}\")\n",
    "print(f\"Training time with RFE selected features: {training_time_rfe:.4f} seconds\")"
   ]
  },
  {
   "cell_type": "markdown",
   "id": "13fc4d69-1a3e-4f93-b81f-06b0098121da",
   "metadata": {},
   "source": [
    "### 2.4 Insight Paragraph"
   ]
  },
  {
   "cell_type": "raw",
   "id": "8cc90fb5-4058-4f35-b0ea-139f96dfaf97",
   "metadata": {},
   "source": [
    "I have used Variance Threshold and Recursive Feature Elimination (RFE) to Feature Selection\n",
    "\n",
    "Variance Threshold removes features with less variation because this data does not provide much information to the classifier. I started with a threshold of 0.1 but did not remove any feature after that I changed the threshold value to 0.2 where sepal_width was removed which has similar values ​​for most of the data points. This was also noticed in the first step when displaying the statistical information where the std of this feature was the lowest (0.436342). Therefore, these features may not be useful for classification. Setting a higher threshold may remove more features. The choice of threshold depends on the dataset and the problem at hand. However, I preferred this value for comparison purposes.\n",
    "\n",
    "Recursive Feature Elimination uses a classifier to recursively remove less important features. It keeps the features that are most important for predicting the target variable. We can try setting different numbers of features but I preferred this value for comparison purposes.\n",
    "\n",
    "Why both methods?\n",
    "For the purpose of comparing between Variance Threshold and Recursive Feature Elimination (RFE), I tried setting the threshold for Variance Threshold to 0.6 for the two most important features where Variance Threshold kept sepal_length and petal_length while Recursive Feature kept petal_length and petal_width.\n",
    "Variance Threshold removes features with low variance. Whereas RFE uses a machine learning model to evaluate the importance of each feature and thus results in selecting features that are more closely related to the target variable. This was also proven when comparing the training time of the classification model.\n",
    "\n",
    "The accuracy of the Logistic Regression classification algorithm using all features, the features selected by the variance threshold, and the features selected by RFE is (100%). This means that even with some features removed, the model was able to classify the iris types perfectly.\n",
    "\n",
    "But I needed to know more about the benefit of feature selection so I added a comparison between the training time. Training times varied, but the reduction in training time when using selected features indicates an improvement in performance. Specifically, using the features selected by RFE resulted in the fastest training time, highlighting the efficiency of feature selection.\n",
    "\n",
    "In addition, if fewer features provide similar accuracy while reducing training time, prediction time, and data collection cost, feature selection is important in some cases."
   ]
  },
  {
   "cell_type": "markdown",
   "id": "a68711ca-4362-4637-8933-51f42ca07ecc",
   "metadata": {},
   "source": [
    "## Part 3: Classification and Model Evaluation"
   ]
  },
  {
   "cell_type": "markdown",
   "id": "762a8c3b-79cf-49db-a120-8a36b4b2c19a",
   "metadata": {},
   "source": [
    "### 3.1 Random Forest Classifier"
   ]
  },
  {
   "cell_type": "code",
   "execution_count": 433,
   "id": "cc7e893e-161b-4a60-9f20-4aef8ffae471",
   "metadata": {},
   "outputs": [
    {
     "name": "stdout",
     "output_type": "stream",
     "text": [
      "Random Forest Classifier:\n",
      "Accuracy: 1.0000\n",
      "Precision: 1.0000\n",
      "Recall: 1.0000\n",
      "F1 Score: 1.0000\n",
      "AUC-ROC: 1.0000\n"
     ]
    },
    {
     "data": {
      "image/png": "[encoded data removed]",
      "text/plain": [
       "<Figure size 640x480 with 2 Axes>"
      ]
     },
     "metadata": {},
     "output_type": "display_data"
    }
   ],
   "source": [
    "from sklearn.metrics import accuracy_score, precision_score, recall_score, f1_score, roc_auc_score, confusion_matrix, ConfusionMatrixDisplay\n",
    "from sklearn.ensemble import RandomForestClassifier\n",
    "import matplotlib.pyplot as plt\n",
    "\n",
    "# Train Random Forest Classifier\n",
    "rf = RandomForestClassifier(random_state=42)\n",
    "rf.fit(X_train, y_train)\n",
    "\n",
    "# Predictions\n",
    "y_pred_rf = rf.predict(X_test)\n",
    "\n",
    "# Predicted probabilities for all classes\n",
    "y_pred_proba_rf = rf.predict_proba(X_test)\n",
    "\n",
    "# Evaluation Metrics\n",
    "accuracy_rf = accuracy_score(y_test, y_pred_rf)\n",
    "precision_rf = precision_score(y_test, y_pred_rf, average='weighted')\n",
    "recall_rf = recall_score(y_test, y_pred_rf, average='weighted')\n",
    "f1_rf = f1_score(y_test, y_pred_rf, average='weighted')\n",
    "roc_auc_rf = roc_auc_score(y_test, y_pred_proba_rf, multi_class='ovr')\n",
    "\n",
    "# Print Evaluation Metrics\n",
    "print(\"Random Forest Classifier:\")\n",
    "print(f\"Accuracy: {accuracy_rf:.4f}\")\n",
    "print(f\"Precision: {precision_rf:.4f}\")\n",
    "print(f\"Recall: {recall_rf:.4f}\")\n",
    "print(f\"F1 Score: {f1_rf:.4f}\")\n",
    "print(f\"AUC-ROC: {roc_auc_rf:.4f}\")\n",
    "\n",
    "# Plot Confusion Matrix\n",
    "cm_rf = confusion_matrix(y_test, y_pred_rf)\n",
    "disp_rf = ConfusionMatrixDisplay(confusion_matrix=cm_rf)\n",
    "disp_rf.plot()\n",
    "plt.title(\"Confusion Matrix for Random Forest\")\n",
    "plt.show()"
   ]
  },
  {
   "cell_type": "markdown",
   "id": "c448e5b9-f871-41e1-9b42-ab37e21c0796",
   "metadata": {},
   "source": [
    "### 3.2 Naive Bayes Classifier"
   ]
  },
  {
   "cell_type": "code",
   "execution_count": 435,
   "id": "8110f1f2-b8e7-46d4-ab02-7ef0df150cac",
   "metadata": {},
   "outputs": [
    {
     "name": "stdout",
     "output_type": "stream",
     "text": [
      "Naive Bayes Classifier:\n",
      "Accuracy: 1.0000\n",
      "Precision: 1.0000\n",
      "Recall: 1.0000\n",
      "F1 Score: 1.0000\n",
      "AUC-ROC: 1.0000\n"
     ]
    },
    {
     "data": {
      "image/png": "[encoded data removed]",
      "text/plain": [
       "<Figure size 640x480 with 2 Axes>"
      ]
     },
     "metadata": {},
     "output_type": "display_data"
    }
   ],
   "source": [
    "from sklearn.naive_bayes import GaussianNB\n",
    "\n",
    "# Train Naive Bayes Classifier\n",
    "nb = GaussianNB()\n",
    "nb.fit(X_train, y_train)\n",
    "\n",
    "# Predictions\n",
    "y_pred_nb = nb.predict(X_test)\n",
    "\n",
    "# Predicted probabilities for all classes\n",
    "y_pred_proba_nb = nb.predict_proba(X_test)\n",
    "\n",
    "# Evaluation Metrics\n",
    "accuracy_nb = accuracy_score(y_test, y_pred_nb)\n",
    "precision_nb = precision_score(y_test, y_pred_nb, average='weighted')\n",
    "recall_nb = recall_score(y_test, y_pred_nb, average='weighted')\n",
    "f1_nb = f1_score(y_test, y_pred_nb, average='weighted')\n",
    "roc_auc_nb = roc_auc_score(y_test, y_pred_proba_nb, multi_class='ovr')\n",
    "\n",
    "# Print Evaluation Metrics\n",
    "print(\"Naive Bayes Classifier:\")\n",
    "print(f\"Accuracy: {accuracy_nb:.4f}\")\n",
    "print(f\"Precision: {precision_nb:.4f}\")\n",
    "print(f\"Recall: {recall_nb:.4f}\")\n",
    "print(f\"F1 Score: {f1_nb:.4f}\")\n",
    "print(f\"AUC-ROC: {roc_auc_nb:.4f}\")\n",
    "\n",
    "# Plot Confusion Matrix\n",
    "cm_nb = confusion_matrix(y_test, y_pred_nb)\n",
    "disp_nb = ConfusionMatrixDisplay(confusion_matrix=cm_nb)\n",
    "disp_nb.plot()\n",
    "plt.title(\"Confusion Matrix for Naive Bayes\")\n",
    "plt.show()\n"
   ]
  },
  {
   "cell_type": "markdown",
   "id": "da94068f-7ff3-4071-a330-31a3e8966734",
   "metadata": {},
   "source": [
    "### 3.3 Support Vector Machine (SVM) Classifier"
   ]
  },
  {
   "cell_type": "code",
   "execution_count": 437,
   "id": "7952f502-f7f8-4f30-acc7-966130ebd4a5",
   "metadata": {},
   "outputs": [
    {
     "name": "stdout",
     "output_type": "stream",
     "text": [
      "SVM Classifier:\n",
      "Accuracy: 1.0000\n",
      "Precision: 1.0000\n",
      "Recall: 1.0000\n",
      "F1 Score: 1.0000\n",
      "AUC-ROC: 1.0000\n"
     ]
    },
    {
     "data": {
      "image/png": "[encoded data removed]",
      "text/plain": [
       "<Figure size 640x480 with 2 Axes>"
      ]
     },
     "metadata": {},
     "output_type": "display_data"
    }
   ],
   "source": [
    "from sklearn.svm import SVC\n",
    "\n",
    "# Train SVM Classifier\n",
    "svm = SVC(probability=True, random_state=42)\n",
    "svm.fit(X_train, y_train)\n",
    "\n",
    "# Predictions\n",
    "y_pred_svm = svm.predict(X_test)\n",
    "\n",
    "# Predicted probabilities for all classes\n",
    "y_pred_proba_svm = svm.predict_proba(X_test)\n",
    "\n",
    "# Evaluation Metrics\n",
    "accuracy_svm = accuracy_score(y_test, y_pred_svm)\n",
    "precision_svm = precision_score(y_test, y_pred_svm, average='weighted')\n",
    "recall_svm = recall_score(y_test, y_pred_svm, average='weighted')\n",
    "f1_svm = f1_score(y_test, y_pred_svm, average='weighted')\n",
    "roc_auc_svm = roc_auc_score(y_test, y_pred_proba_svm, multi_class='ovr')\n",
    "\n",
    "# Print Evaluation Metrics\n",
    "print(\"SVM Classifier:\")\n",
    "print(f\"Accuracy: {accuracy_svm:.4f}\")\n",
    "print(f\"Precision: {precision_svm:.4f}\")\n",
    "print(f\"Recall: {recall_svm:.4f}\")\n",
    "print(f\"F1 Score: {f1_svm:.4f}\")\n",
    "print(f\"AUC-ROC: {roc_auc_svm:.4f}\")\n",
    "\n",
    "# Plot Confusion Matrix\n",
    "cm_svm = confusion_matrix(y_test, y_pred_svm)\n",
    "disp_svm = ConfusionMatrixDisplay(confusion_matrix=cm_svm)\n",
    "disp_svm.plot()\n",
    "plt.title(\"Confusion Matrix for SVM\")\n",
    "plt.show()\n"
   ]
  },
  {
   "cell_type": "markdown",
   "id": "a48340fc-5fab-4e8d-bbdd-7c5012cb5b1c",
   "metadata": {},
   "source": [
    "### 3.4 XGBoost Classifier"
   ]
  },
  {
   "cell_type": "code",
   "execution_count": 439,
   "id": "57f80cad-ddd4-4227-8928-8055a9e3621b",
   "metadata": {},
   "outputs": [
    {
     "name": "stdout",
     "output_type": "stream",
     "text": [
      "XGBoost Classifier:\n",
      "Accuracy: 1.0000\n",
      "Precision: 1.0000\n",
      "Recall: 1.0000\n",
      "F1 Score: 1.0000\n",
      "AUC-ROC: 1.0000\n"
     ]
    },
    {
     "data": {
      "image/png": "[encoded data removed]",
      "text/plain": [
       "<Figure size 640x480 with 2 Axes>"
      ]
     },
     "metadata": {},
     "output_type": "display_data"
    }
   ],
   "source": [
    "from xgboost import XGBClassifier\n",
    "from sklearn.preprocessing import LabelEncoder\n",
    "\n",
    "# Encode the target labels\n",
    "label_encoder = LabelEncoder()\n",
    "y_train_encoded = label_encoder.fit_transform(y_train)\n",
    "y_test_encoded = label_encoder.transform(y_test)\n",
    "\n",
    "# Train XGBoost Classifier\n",
    "xgb = XGBClassifier(eval_metric='logloss', random_state=42)\n",
    "xgb.fit(X_train, y_train_encoded)\n",
    "\n",
    "# Predictions\n",
    "y_pred_xgb = xgb.predict(X_test)\n",
    "\n",
    "# Inverse transform predictions back to original labels\n",
    "y_pred_xgb = label_encoder.inverse_transform(y_pred_xgb)\n",
    "\n",
    "# Predicted probabilities for all classes\n",
    "y_pred_proba_xgb = xgb.predict_proba(X_test)\n",
    "\n",
    "# Evaluation Metrics\n",
    "accuracy_xgb = accuracy_score(y_test, y_pred_xgb)\n",
    "precision_xgb = precision_score(y_test, y_pred_xgb, average='weighted')\n",
    "recall_xgb = recall_score(y_test, y_pred_xgb, average='weighted')\n",
    "f1_xgb = f1_score(y_test, y_pred_xgb, average='weighted')\n",
    "roc_auc_xgb = roc_auc_score(y_test_encoded, y_pred_proba_xgb, multi_class='ovr')\n",
    "\n",
    "# Print Evaluation Metrics\n",
    "print(\"XGBoost Classifier:\")\n",
    "print(f\"Accuracy: {accuracy_xgb:.4f}\")\n",
    "print(f\"Precision: {precision_xgb:.4f}\")\n",
    "print(f\"Recall: {recall_xgb:.4f}\")\n",
    "print(f\"F1 Score: {f1_xgb:.4f}\")\n",
    "print(f\"AUC-ROC: {roc_auc_xgb:.4f}\")\n",
    "\n",
    "# Plot Confusion Matrix\n",
    "cm_xgb = confusion_matrix(y_test, y_pred_xgb)\n",
    "disp_xgb = ConfusionMatrixDisplay(confusion_matrix=cm_xgb)\n",
    "disp_xgb.plot()\n",
    "plt.title(\"Confusion Matrix for XGBoost\")\n",
    "plt.show()\n"
   ]
  },
  {
   "cell_type": "markdown",
   "id": "2536ab98-2192-43a1-bb83-01fc009b8887",
   "metadata": {},
   "source": [
    "### 3.5 Insight Paragraph"
   ]
  },
  {
   "cell_type": "raw",
   "id": "db37e155-d544-42c6-b58d-6aa350cc6ce8",
   "metadata": {},
   "source": [
    "I used the full Iris database to evaluate and compare the performance of the following classifiers:\n",
    "Random Forest Classifier\n",
    "Naive Bayes Classifier\n",
    "Support Vector Machine (SVM) Classifier\n",
    "XGBoost Classifier\n",
    "After training and evaluating them using multiple evaluation metrics (Accuracy, Precision, Recall, F1-Score, AUC-ROC). and Plot confusion matrices for each classifier.\n",
    "It is clear that all models achieved perfect scores across all metrics, with each scoring 1.0000. This indicates that the Iris dataset is small and simple. The Iris dataset is also clean and well-organized, and contains no missing values, allowing the models to perform optimally."
   ]
  }
 ],
 "metadata": {
  "kernelspec": {
   "display_name": "Python 3 (ipykernel)",
   "language": "python",
   "name": "python3"
  },
  "language_info": {
   "codemirror_mode": {
    "name": "ipython",
    "version": 3
   },
   "file_extension": ".py",
   "mimetype": "text/x-python",
   "name": "python",
   "nbconvert_exporter": "python",
   "pygments_lexer": "ipython3",
   "version": "3.12.4"
  }
 },
 "nbformat": 4,
 "nbformat_minor": 5
}
